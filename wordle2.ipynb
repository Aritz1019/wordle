{
 "cells": [
  {
   "cell_type": "code",
   "execution_count": 2,
   "metadata": {},
   "outputs": [
    {
     "name": "stdout",
     "output_type": "stream",
     "text": [
      "*A***\n"
     ]
    }
   ],
   "source": [
    "final_word = \"*****\"\n",
    "initial_word = \"MACHO\"\n",
    "i = 1\n",
    "final_word = final_word[:i] + initial_word[i] + final_word[i + 1:]\n",
    "\n",
    "print(final_word)"
   ]
  },
  {
   "cell_type": "code",
   "execution_count": 9,
   "metadata": {},
   "outputs": [
    {
     "name": "stdout",
     "output_type": "stream",
     "text": [
      "entra\n",
      "fin\n"
     ]
    }
   ],
   "source": [
    "contained_letters = {'R', 'A'}\n",
    "not_contained_letters = {'O', 'S'}\n",
    "word = 'ABACA'\n",
    "\n",
    "if not_contained_letters in set(word):\n",
    "    print(\"entra\")\n",
    "\n",
    "print(\"fin\")"
   ]
  },
  {
   "cell_type": "code",
   "execution_count": 3,
   "metadata": {},
   "outputs": [
    {
     "data": {
      "text/plain": [
       "range(0, 5)"
      ]
     },
     "execution_count": 3,
     "metadata": {},
     "output_type": "execute_result"
    }
   ],
   "source": [
    "list = range(1, 5)\n",
    "list"
   ]
  }
 ],
 "metadata": {
  "interpreter": {
   "hash": "c17eb80bc171798ad3d00c32f0054fae03f5e34227ac79ded9a80e03fd41bc47"
  },
  "kernelspec": {
   "display_name": "Python 3.10.0 64-bit",
   "language": "python",
   "name": "python3"
  },
  "language_info": {
   "codemirror_mode": {
    "name": "ipython",
    "version": 3
   },
   "file_extension": ".py",
   "mimetype": "text/x-python",
   "name": "python",
   "nbconvert_exporter": "python",
   "pygments_lexer": "ipython3",
   "version": "3.10.0"
  },
  "orig_nbformat": 4
 },
 "nbformat": 4,
 "nbformat_minor": 2
}
